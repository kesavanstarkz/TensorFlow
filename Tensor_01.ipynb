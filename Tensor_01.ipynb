{
  "nbformat": 4,
  "nbformat_minor": 0,
  "metadata": {
    "colab": {
      "provenance": [],
      "authorship_tag": "ABX9TyMcOHn4XnAaeLPlxGHsRbvL",
      "include_colab_link": true
    },
    "kernelspec": {
      "name": "python3",
      "display_name": "Python 3"
    },
    "language_info": {
      "name": "python"
    }
  },
  "cells": [
    {
      "cell_type": "markdown",
      "metadata": {
        "id": "view-in-github",
        "colab_type": "text"
      },
      "source": [
        "<a href=\"https://colab.research.google.com/github/starkz11/TensorFlow/blob/main/Tensor_01.ipynb\" target=\"_parent\"><img src=\"https://colab.research.google.com/assets/colab-badge.svg\" alt=\"Open In Colab\"/></a>"
      ]
    },
    {
      "cell_type": "markdown",
      "source": [
        "## Introduction To **Tensors**"
      ],
      "metadata": {
        "id": "1T9fzIdtWIWI"
      }
    },
    {
      "cell_type": "code",
      "source": [
        "#import Tensorflow\n",
        "\n",
        "import tensorflow as tf\n",
        "print(tf.__version__)#command Helps us to find version of tensorflow"
      ],
      "metadata": {
        "colab": {
          "base_uri": "https://localhost:8080/"
        },
        "id": "fQ0U5KcKWQNd",
        "outputId": "9689f865-e12a-40d9-ec4d-ad0824b2cb28"
      },
      "execution_count": null,
      "outputs": [
        {
          "output_type": "stream",
          "name": "stdout",
          "text": [
            "2.12.0\n"
          ]
        }
      ]
    },
    {
      "cell_type": "markdown",
      "source": [
        "# Creating with tf.**constant**"
      ],
      "metadata": {
        "id": "g8DdFkTkgCiG"
      }
    },
    {
      "cell_type": "code",
      "source": [
        "#creating tensors with tf.constant()---tf.constant() cannot change in future\n",
        "\n",
        "scalar=tf.constant(7)\n",
        "scalar"
      ],
      "metadata": {
        "colab": {
          "base_uri": "https://localhost:8080/"
        },
        "id": "XMmTMZOKWZ-a",
        "outputId": "74a454a3-bc63-4b8d-f2f2-410a15739fc7"
      },
      "execution_count": null,
      "outputs": [
        {
          "output_type": "execute_result",
          "data": {
            "text/plain": [
              "<tf.Tensor: shape=(), dtype=int32, numpy=7>"
            ]
          },
          "metadata": {},
          "execution_count": 8
        }
      ]
    },
    {
      "cell_type": "code",
      "source": [
        "#create ndim--no.of dimensions\n",
        "scalar.ndim"
      ],
      "metadata": {
        "colab": {
          "base_uri": "https://localhost:8080/"
        },
        "id": "g0JOFB4BXJVz",
        "outputId": "58302106-399a-4db3-ee54-b1b091185ac9"
      },
      "execution_count": null,
      "outputs": [
        {
          "output_type": "execute_result",
          "data": {
            "text/plain": [
              "0"
            ]
          },
          "metadata": {},
          "execution_count": 9
        }
      ]
    },
    {
      "cell_type": "code",
      "source": [
        "#creating vectors\n",
        "vectors=tf.constant([1,2,3,4])\n",
        "print(vectors)\n",
        "\n",
        "print(vectors.shape)"
      ],
      "metadata": {
        "colab": {
          "base_uri": "https://localhost:8080/"
        },
        "id": "ZZHktkZgYTUu",
        "outputId": "29c924d5-b79f-4ec5-fa01-9deaf563a279"
      },
      "execution_count": null,
      "outputs": [
        {
          "output_type": "stream",
          "name": "stdout",
          "text": [
            "tf.Tensor([1 2 3 4], shape=(4,), dtype=int32)\n",
            "(4,)\n"
          ]
        }
      ]
    },
    {
      "cell_type": "code",
      "source": [
        "#dimension of vector\n",
        "vectors.ndim"
      ],
      "metadata": {
        "colab": {
          "base_uri": "https://localhost:8080/"
        },
        "id": "Z1J3benaY5fK",
        "outputId": "4a9d8215-a545-4da2-8581-c50525526527"
      },
      "execution_count": null,
      "outputs": [
        {
          "output_type": "execute_result",
          "data": {
            "text/plain": [
              "1"
            ]
          },
          "metadata": {},
          "execution_count": 12
        }
      ]
    },
    {
      "cell_type": "code",
      "source": [
        "#creating a matrix\n",
        "\n",
        "matrix=tf.constant([\n",
        "    [2,3],\n",
        "    [211,12]\n",
        "])\n",
        "matrix\n",
        "print(matrix.ndim)\n",
        "print(matrix.shape)"
      ],
      "metadata": {
        "colab": {
          "base_uri": "https://localhost:8080/"
        },
        "id": "PNbj2k4uY71y",
        "outputId": "3b2722ba-8883-423f-ee22-c8791de364b4"
      },
      "execution_count": null,
      "outputs": [
        {
          "output_type": "stream",
          "name": "stdout",
          "text": [
            "2\n",
            "(2, 2)\n"
          ]
        }
      ]
    },
    {
      "cell_type": "code",
      "source": [
        "#ceate another matrix with datatype(dtype)\n",
        "another_matrix=tf.constant([\n",
        "    [2,3,4],\n",
        "    [2,32,33],\n",
        "    [2,234,23]\n",
        "],dtype=tf.float16)\n",
        "another_matrix"
      ],
      "metadata": {
        "colab": {
          "base_uri": "https://localhost:8080/"
        },
        "id": "7mDAS6yHZdeX",
        "outputId": "c735d177-a679-4549-8856-83bd24e1cedf"
      },
      "execution_count": null,
      "outputs": [
        {
          "output_type": "execute_result",
          "data": {
            "text/plain": [
              "<tf.Tensor: shape=(3, 3), dtype=float16, numpy=\n",
              "array([[  2.,   3.,   4.],\n",
              "       [  2.,  32.,  33.],\n",
              "       [  2., 234.,  23.]], dtype=float16)>"
            ]
          },
          "metadata": {},
          "execution_count": 22
        }
      ]
    },
    {
      "cell_type": "code",
      "source": [
        "#ndim\n",
        "another_matrix.ndim"
      ],
      "metadata": {
        "colab": {
          "base_uri": "https://localhost:8080/"
        },
        "id": "B2Jm-ACgazEj",
        "outputId": "4bc843ce-1fbc-4b68-ac14-fbd5394061d9"
      },
      "execution_count": null,
      "outputs": [
        {
          "output_type": "execute_result",
          "data": {
            "text/plain": [
              "2"
            ]
          },
          "metadata": {},
          "execution_count": 21
        }
      ]
    },
    {
      "cell_type": "code",
      "source": [
        "#creating tensors\n",
        "\n",
        "tensors=tf.constant([\n",
        "    [\n",
        "        [1,2,4],\n",
        "        [1,2,32],\n",
        "        [34,323,112],\n",
        "        [6,523,23],\n",
        "    ],\n",
        "    [\n",
        "        [1,2,4],\n",
        "        [1,2,32],\n",
        "        [34,323,112],\n",
        "        [6,523,23],\n",
        "    ],\n",
        "    [\n",
        "        [1,2,4],\n",
        "        [1,2,32],\n",
        "        [34,323,112],\n",
        "        [6,523,23],\n",
        "    ]\n",
        "])\n",
        "\n",
        "tensors"
      ],
      "metadata": {
        "colab": {
          "base_uri": "https://localhost:8080/"
        },
        "id": "bJvlDnHBbThA",
        "outputId": "e42cb82d-ffb5-4f58-9417-55b51ec33857"
      },
      "execution_count": null,
      "outputs": [
        {
          "output_type": "execute_result",
          "data": {
            "text/plain": [
              "<tf.Tensor: shape=(3, 4, 3), dtype=int32, numpy=\n",
              "array([[[  1,   2,   4],\n",
              "        [  1,   2,  32],\n",
              "        [ 34, 323, 112],\n",
              "        [  6, 523,  23]],\n",
              "\n",
              "       [[  1,   2,   4],\n",
              "        [  1,   2,  32],\n",
              "        [ 34, 323, 112],\n",
              "        [  6, 523,  23]],\n",
              "\n",
              "       [[  1,   2,   4],\n",
              "        [  1,   2,  32],\n",
              "        [ 34, 323, 112],\n",
              "        [  6, 523,  23]]], dtype=int32)>"
            ]
          },
          "metadata": {},
          "execution_count": 31
        }
      ]
    },
    {
      "cell_type": "code",
      "source": [
        "tensors.ndim"
      ],
      "metadata": {
        "colab": {
          "base_uri": "https://localhost:8080/"
        },
        "id": "HnI7IpbAcdZW",
        "outputId": "f9191ea1-baee-4360-8351-cebad17f9786"
      },
      "execution_count": null,
      "outputs": [
        {
          "output_type": "execute_result",
          "data": {
            "text/plain": [
              "4"
            ]
          },
          "metadata": {},
          "execution_count": 29
        }
      ]
    },
    {
      "cell_type": "markdown",
      "source": [
        "# Creating Tensors with tf.**Variable**"
      ],
      "metadata": {
        "id": "kyJvoHccfmNZ"
      }
    },
    {
      "cell_type": "code",
      "source": [
        "changable_tensor=tf.Variable([4,2])\n",
        "unchangable_tensor=tf.constant([4,2])\n",
        "changable_tensor,unchangable_tensor"
      ],
      "metadata": {
        "colab": {
          "base_uri": "https://localhost:8080/"
        },
        "id": "m-_-n5a-ckk7",
        "outputId": "2e3b1a12-70bc-4cd9-93ec-82c898b15d0f"
      },
      "execution_count": null,
      "outputs": [
        {
          "output_type": "execute_result",
          "data": {
            "text/plain": [
              "(<tf.Variable 'Variable:0' shape=(2,) dtype=int32, numpy=array([4, 2], dtype=int32)>,\n",
              " <tf.Tensor: shape=(2,), dtype=int32, numpy=array([4, 2], dtype=int32)>)"
            ]
          },
          "metadata": {},
          "execution_count": 33
        }
      ]
    },
    {
      "cell_type": "code",
      "source": [
        "changable_tensor[0]=2 #don't use this type of format to change values of tensors\n",
        "changable_tensor"
      ],
      "metadata": {
        "id": "eGskxR62gwHb"
      },
      "execution_count": null,
      "outputs": []
    },
    {
      "cell_type": "code",
      "source": [
        "changable_tensor[0].assign(6)# use this type of format to change values of tensors\n",
        "changable_tensor"
      ],
      "metadata": {
        "colab": {
          "base_uri": "https://localhost:8080/"
        },
        "id": "9XNXn2cwhIvJ",
        "outputId": "b1ab50f9-3367-4c56-94e5-74c8876d5f5f"
      },
      "execution_count": null,
      "outputs": [
        {
          "output_type": "execute_result",
          "data": {
            "text/plain": [
              "<tf.Variable 'Variable:0' shape=(2,) dtype=int32, numpy=array([6, 2], dtype=int32)>"
            ]
          },
          "metadata": {},
          "execution_count": 35
        }
      ]
    },
    {
      "cell_type": "code",
      "source": [
        "unchangable_tensor[0].assign(4)#cannot change the values of tf.constant\n",
        "unchangable_tensor"
      ],
      "metadata": {
        "id": "27cUbN-9hYs0"
      },
      "execution_count": null,
      "outputs": []
    },
    {
      "cell_type": "markdown",
      "source": [
        "# Create tensors with random\n"
      ],
      "metadata": {
        "id": "CEJq7oB6kPCD"
      }
    },
    {
      "cell_type": "code",
      "source": [
        "g1 = tf.random.Generator.from_seed(1)\n",
        "print(g1.normal(shape=[3, 3]))\n",
        "g2 = tf.random.get_global_generator()\n",
        "print(g2.normal(shape=[2, 3]))"
      ],
      "metadata": {
        "colab": {
          "base_uri": "https://localhost:8080/"
        },
        "id": "8xWzK5S2hzMy",
        "outputId": "26f99884-7ffc-404b-824a-e4d556089738"
      },
      "execution_count": null,
      "outputs": [
        {
          "output_type": "stream",
          "name": "stdout",
          "text": [
            "tf.Tensor(\n",
            "[[ 0.43842274 -0.53439844 -0.07710262]\n",
            " [ 1.5658046  -0.1012345  -0.2744976 ]\n",
            " [ 1.4204658   1.2609464  -0.43640924]], shape=(3, 3), dtype=float32)\n",
            "tf.Tensor(\n",
            "[[-0.725465    1.9638231  -2.3631039 ]\n",
            " [ 0.77367747  1.5859905   1.0308619 ]], shape=(2, 3), dtype=float32)\n"
          ]
        }
      ]
    },
    {
      "cell_type": "code",
      "source": [],
      "metadata": {
        "id": "OrwkaSKgkWxM"
      },
      "execution_count": null,
      "outputs": []
    }
  ]
}